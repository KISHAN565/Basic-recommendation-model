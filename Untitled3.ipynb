{
  "nbformat": 4,
  "nbformat_minor": 0,
  "metadata": {
    "colab": {
      "provenance": []
    },
    "kernelspec": {
      "name": "python3",
      "display_name": "Python 3"
    },
    "language_info": {
      "name": "python"
    }
  },
  "cells": [
    {
      "cell_type": "code",
      "execution_count": 1,
      "metadata": {
        "colab": {
          "base_uri": "https://localhost:8080/"
        },
        "id": "lFa5qK5lCQBq",
        "outputId": "43f75a59-2094-489a-e7d8-46fe2c979161"
      },
      "outputs": [
        {
          "output_type": "stream",
          "name": "stdout",
          "text": [
            "                      title                      genre  \\\n",
            "0  The Shawshank Redemption                      Drama   \n",
            "1             The Godfather               Crime, Drama   \n",
            "2           The Dark Knight       Action, Crime, Drama   \n",
            "3              Pulp Fiction               Crime, Drama   \n",
            "4                Fight Club                      Drama   \n",
            "5              Forrest Gump             Drama, Romance   \n",
            "6                 Inception  Action, Adventure, Sci-Fi   \n",
            "7                The Matrix             Action, Sci-Fi   \n",
            "8                Goodfellas    Biography, Crime, Drama   \n",
            "9  The Silence of the Lambs     Crime, Drama, Thriller   \n",
            "\n",
            "                                         description  \n",
            "0  Two imprisoned men bond over a number of years...  \n",
            "1  The aging patriarch of an organized crime dyna...  \n",
            "2  When the menace known as the Joker emerges fro...  \n",
            "3  The lives of two mob hitmen, a boxer, a gangst...  \n",
            "4  An insomniac office worker and a devil-may-car...  \n",
            "5  The presidencies of Kennedy and Johnson, the V...  \n",
            "6  A thief who steals corporate secrets through t...  \n",
            "7  A computer hacker learns from mysterious rebel...  \n",
            "8  The story of Henry Hill and his life in the mo...  \n",
            "9  A young F.B.I. cadet must receive the help of ...  \n",
            "Recommended movies:\n",
            "2             The Dark Knight\n",
            "5                Forrest Gump\n",
            "0    The Shawshank Redemption\n",
            "1               The Godfather\n",
            "3                Pulp Fiction\n",
            "Name: title, dtype: object\n"
          ]
        }
      ],
      "source": [
        "import pandas as pd\n",
        "from sklearn.feature_extraction.text import TfidfVectorizer\n",
        "from sklearn.metrics.pairwise import cosine_similarity\n",
        "\n",
        "\n",
        "# Sample dataset\n",
        "data = {\n",
        "    'title': [\n",
        "        'The Shawshank Redemption', 'The Godfather', 'The Dark Knight', 'Pulp Fiction', 'Fight Club',\n",
        "        'Forrest Gump', 'Inception', 'The Matrix', 'Goodfellas', 'The Silence of the Lambs'\n",
        "    ],\n",
        "    'genre': [\n",
        "        'Drama', 'Crime, Drama', 'Action, Crime, Drama', 'Crime, Drama', 'Drama',\n",
        "        'Drama, Romance', 'Action, Adventure, Sci-Fi', 'Action, Sci-Fi', 'Biography, Crime, Drama', 'Crime, Drama, Thriller'\n",
        "    ],\n",
        "    'description': [\n",
        "        'Two imprisoned men bond over a number of years, finding solace and eventual redemption through acts of common decency.',\n",
        "        'The aging patriarch of an organized crime dynasty transfers control of his clandestine empire to his reluctant son.',\n",
        "        'When the menace known as the Joker emerges from his mysterious past, he wreaks havoc and chaos on the people of Gotham.',\n",
        "        'The lives of two mob hitmen, a boxer, a gangster\\'s wife, and a pair of diner bandits intertwine in four tales of violence and redemption.',\n",
        "        'An insomniac office worker and a devil-may-care soapmaker form an underground fight club that evolves into something much more.',\n",
        "        'The presidencies of Kennedy and Johnson, the Vietnam War, the Watergate scandal and other historical events unfold from the perspective of an Alabama man with an IQ of 75.',\n",
        "        'A thief who steals corporate secrets through the use of dream-sharing technology is given the inverse task of planting an idea into the mind of a CEO.',\n",
        "        'A computer hacker learns from mysterious rebels about the true nature of his reality and his role in the war against its controllers.',\n",
        "        'The story of Henry Hill and his life in the mob, covering his relationship with his wife Karen Hill and his mob partners Jimmy Conway and Tommy DeVito.',\n",
        "        'A young F.B.I. cadet must receive the help of an incarcerated and manipulative cannibal killer to help catch another serial killer, a madman who skins his victims.'\n",
        "    ]\n",
        "}\n",
        "\n",
        "# Create a DataFrame\n",
        "df = pd.DataFrame(data)\n",
        "print (df)\n",
        "\n",
        "# Function to recommend movies based on a given movie title\n",
        "def recommend_movies(movie_title, num_recommendations=5):\n",
        "    # Initialize the TF-IDF Vectorizer\n",
        "    tfidf = TfidfVectorizer(stop_words='english')\n",
        "\n",
        "    # Fit and transform the movie descriptions\n",
        "    tfidf_matrix = tfidf.fit_transform(df['description'])\n",
        "\n",
        "    # Calculate the cosine similarity matrix\n",
        "    cosine_sim = cosine_similarity(tfidf_matrix, tfidf_matrix)\n",
        "\n",
        "    # Get the index of the movie that matches the title\n",
        "    idx = df.index[df['title'] == movie_title].tolist()[0]\n",
        "\n",
        "    # Get the pairwise similarity scores of all movies with that movie\n",
        "    sim_scores = list(enumerate(cosine_sim[idx]))\n",
        "\n",
        "    # Sort the movies based on similarity scores\n",
        "    sim_scores = sorted(sim_scores, key=lambda x: x[1], reverse=True)\n",
        "\n",
        "    # Get the indices of the most similar movies\n",
        "    sim_scores = sim_scores[1:num_recommendations + 1]\n",
        "\n",
        "    # Return the top n most similar movies\n",
        "    movie_indices = [i[0] for i in sim_scores]\n",
        "    return df['title'].iloc[movie_indices]\n",
        "\n",
        "# Example usage\n",
        "recommended_movies = recommend_movies('The Matrix', num_recommendations=5)\n",
        "print(\"Recommended movies:\")\n",
        "print(recommended_movies)\n"
      ]
    }
  ]
}